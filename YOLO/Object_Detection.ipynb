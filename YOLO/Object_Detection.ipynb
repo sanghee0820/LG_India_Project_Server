{
 "cells": [
  {
   "cell_type": "code",
   "execution_count": 1,
   "metadata": {},
   "outputs": [],
   "source": [
    "import cv2\n",
    "import torch\n",
    "import pandas\n"
   ]
  },
  {
   "cell_type": "code",
   "execution_count": 2,
   "metadata": {},
   "outputs": [
    {
     "name": "stderr",
     "output_type": "stream",
     "text": [
      "Using cache found in /Users/sanghee/.cache/torch/hub/ultralytics_yolov5_master\n",
      "YOLOv5 🚀 2023-7-4 Python-3.11.3 torch-2.0.1 CPU\n",
      "\n",
      "Fusing layers... \n",
      "YOLOv5x-seg summary: 455 layers, 88774445 parameters, 0 gradients, 265.7 GFLOPs\n",
      "WARNING ⚠️ YOLOv5 SegmentationModel is not yet AutoShape compatible. You will not be able to run inference with this model.\n"
     ]
    }
   ],
   "source": [
    "\n",
    "# 모델 로드\n",
    "model = torch.hub.load('ultralytics/yolov5', 'custom', 'yolov5x-seg.pt')\n"
   ]
  },
  {
   "cell_type": "code",
   "execution_count": 3,
   "metadata": {},
   "outputs": [],
   "source": [
    "# 웹캠 열기\n",
    "cap = cv2.VideoCapture(0)"
   ]
  },
  {
   "cell_type": "code",
   "execution_count": 4,
   "metadata": {},
   "outputs": [
    {
     "ename": "AttributeError",
     "evalue": "'list' object has no attribute 'xyxy'",
     "output_type": "error",
     "traceback": [
      "\u001b[0;31m---------------------------------------------------------------------------\u001b[0m",
      "\u001b[0;31mAttributeError\u001b[0m                            Traceback (most recent call last)",
      "Cell \u001b[0;32mIn[4], line 14\u001b[0m\n\u001b[1;32m     11\u001b[0m results \u001b[39m=\u001b[39m model(img)\n\u001b[1;32m     13\u001b[0m \u001b[39m# Process the results\u001b[39;00m\n\u001b[0;32m---> 14\u001b[0m \u001b[39mfor\u001b[39;00m result \u001b[39min\u001b[39;00m results\u001b[39m.\u001b[39;49mxyxy[\u001b[39m0\u001b[39m]:\n\u001b[1;32m     15\u001b[0m     x1, y1, x2, y2, class_id, confidence \u001b[39m=\u001b[39m result\u001b[39m.\u001b[39mtolist()\n\u001b[1;32m     16\u001b[0m     label \u001b[39m=\u001b[39m model\u001b[39m.\u001b[39mnames[\u001b[39mint\u001b[39m(class_id)]\n",
      "\u001b[0;31mAttributeError\u001b[0m: 'list' object has no attribute 'xyxy'"
     ]
    }
   ],
   "source": [
    "while True:\n",
    "    # Read the frame\n",
    "    ret, frame = cap.read()\n",
    "\n",
    "    # Preprocess the image\n",
    "    img = cv2.cvtColor(frame, cv2.COLOR_BGR2RGB)\n",
    "    img = cv2.resize(img, (640, 640))\n",
    "    img = torch.from_numpy(img).permute(2, 0, 1).float().div(255.0).unsqueeze(0)\n",
    "\n",
    "    # Perform inference\n",
    "    results = model(img)\n",
    "\n",
    "    # Process the results\n",
    "    for result in results.pred[0].detach():\n",
    "        x1, y1, x2, y2, class_id, confidence = result.tolist()\n",
    "        label = model.names[int(class_id)]\n",
    "        cv2.rectangle(frame, (int(x1), int(y1)), (int(x2), int(y2)), (0, 255, 0), 2)\n",
    "        cv2.putText(frame, f'{label}: {confidence:.2f}', (int(x1), int(y1) - 10),\n",
    "                    cv2.FONT_HERSHEY_SIMPLEX, 0.9, (0, 255, 0), 2)\n",
    "\n",
    "    # Display the frame\n",
    "    cv2.imshow('Webcam', frame)\n",
    "\n",
    "    # Press 'q' to exit\n",
    "    if cv2.waitKey(1) == ord('q'):\n",
    "        break\n",
    "\n",
    "# Release the webcam and close the window\n",
    "cap.release()\n",
    "cv2.destroyAllWindows()"
   ]
  }
 ],
 "metadata": {
  "kernelspec": {
   "display_name": "Python 3",
   "language": "python",
   "name": "python3"
  },
  "language_info": {
   "codemirror_mode": {
    "name": "ipython",
    "version": 3
   },
   "file_extension": ".py",
   "mimetype": "text/x-python",
   "name": "python",
   "nbconvert_exporter": "python",
   "pygments_lexer": "ipython3",
   "version": "3.11.3"
  },
  "orig_nbformat": 4
 },
 "nbformat": 4,
 "nbformat_minor": 2
}
